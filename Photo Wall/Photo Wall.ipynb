{
 "metadata": {
  "language_info": {
   "codemirror_mode": {
    "name": "ipython",
    "version": 3
   },
   "file_extension": ".py",
   "mimetype": "text/x-python",
   "name": "python",
   "nbconvert_exporter": "python",
   "pygments_lexer": "ipython3",
   "version": "3.9.5"
  },
  "orig_nbformat": 4,
  "kernelspec": {
   "name": "python3",
   "display_name": "Python 3.9.5 64-bit"
  },
  "interpreter": {
   "hash": "ac59ebe37160ed0dfa835113d9b8498d9f09ceb179beaac4002f036b9467c963"
  }
 },
 "nbformat": 4,
 "nbformat_minor": 2,
 "cells": [
  {
   "cell_type": "code",
   "execution_count": 1,
   "metadata": {},
   "outputs": [],
   "source": [
    "import os\n",
    "from PIL import Image,ImageFont,ImageDraw\n",
    "import random"
   ]
  },
  {
   "cell_type": "code",
   "execution_count": 2,
   "metadata": {},
   "outputs": [],
   "source": [
    "SMALL_WIDTH=100\n",
    "SMALL_HEIGHT=100\n",
    "BIG_HEIGHT=1000\n",
    "BIG_WIDTH=3500"
   ]
  },
  {
   "cell_type": "code",
   "execution_count": 3,
   "metadata": {},
   "outputs": [],
   "source": [
    "path = 'photo'\n",
    "num= 1\n",
    "for file in os.listdir(path):\n",
    "    os.rename(os.path.join(path,file),os.path.join(path,str(num)+\".jpg\"))\n",
    "    num+=1"
   ]
  },
  {
   "cell_type": "code",
   "execution_count": 4,
   "metadata": {},
   "outputs": [],
   "source": [
    "text=\"41802198\" # 设置文字图层内容\n",
    "ft=ImageFont.truetype(\"shuma.ttf\", int(BIG_HEIGHT*1))   # 选择字体和字体大小\n",
    "text_image=Image.new(\"RGB\", (BIG_WIDTH,BIG_HEIGHT)) # 新建一张空图\n",
    "draw = ImageDraw.Draw(text_image)\n",
    "draw.text((0,0), text,font=ft,fill=\"red\")   # 写入字\n",
    "text_image.save(\"text.jpg\")"
   ]
  },
  {
   "cell_type": "code",
   "execution_count": 5,
   "metadata": {},
   "outputs": [],
   "source": [
    "wall_image=Image.new(\"RGB\", (BIG_WIDTH,BIG_HEIGHT)) # 新建空图\n",
    "# 通过循环粘贴小图片成大图片\n",
    "for x in range(BIG_WIDTH//SMALL_WIDTH):\n",
    "    for y in range(BIG_HEIGHT//SMALL_HEIGHT):\n",
    "        num=random.randint(1,10)    # 随机选图\n",
    "        tmp=Image.open(\"photo/\"+str(num)+\".jpg\")\n",
    "        tmp=tmp.resize((SMALL_WIDTH,SMALL_HEIGHT),Image.NEAREST)    # 调整大小\n",
    "        wall_image.paste(tmp,(x*SMALL_WIDTH,y*SMALL_HEIGHT))  #粘贴图片   \n",
    "wall_image.save(\"wall.jpg\")"
   ]
  },
  {
   "cell_type": "code",
   "execution_count": 6,
   "metadata": {
    "tags": []
   },
   "outputs": [],
   "source": [
    "final_image=Image.new(\"RGB\", (BIG_WIDTH,BIG_HEIGHT))    # 新建空图\n",
    "# 循环比较各个位置像素点\n",
    "for l in range(BIG_WIDTH):\n",
    "    for h in range(BIG_HEIGHT):\n",
    "        dot=(l,h)\n",
    "        color_1=text_image.getpixel(dot)\n",
    "        color_2=wall_image.getpixel(dot)\n",
    "        if color_1==(255,0,0):  # 如果该点处text.jpg为大红色\n",
    "            final_image.putpixel(dot,color_2)   # 将该图的像素点赋值为wall.jpg同样位置像素点的值\n",
    "final_image.save(\"final.jpg\")"
   ]
  }
 ]
}