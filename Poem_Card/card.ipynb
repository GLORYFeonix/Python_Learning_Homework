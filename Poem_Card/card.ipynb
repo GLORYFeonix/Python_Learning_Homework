{
 "metadata": {
  "language_info": {
   "codemirror_mode": {
    "name": "ipython",
    "version": 3
   },
   "file_extension": ".py",
   "mimetype": "text/x-python",
   "name": "python",
   "nbconvert_exporter": "python",
   "pygments_lexer": "ipython3",
   "version": "3.8.1"
  },
  "orig_nbformat": 4,
  "kernelspec": {
   "name": "python3",
   "display_name": "Python 3.8.1  ('.class': venv)"
  },
  "interpreter": {
   "hash": "33654fddddba1cb2a9298ab6ad41885b6fb2b71f50e9752cef768be51e340bcc"
  }
 },
 "nbformat": 4,
 "nbformat_minor": 2,
 "cells": [
  {
   "cell_type": "code",
   "execution_count": 12,
   "metadata": {},
   "outputs": [],
   "source": [
    "import csv\n",
    "import re\n",
    "import random\n",
    "from PIL import Image, ImageDraw, ImageFont"
   ]
  },
  {
   "cell_type": "code",
   "execution_count": 13,
   "metadata": {},
   "outputs": [],
   "source": [
    "f = csv.reader(open('name.csv'))    # 读入csv文件\n",
    "names = []\n",
    "for item in f:\n",
    "    names.append(item[0])   # 将文件中的每一项加入list中\n",
    "\n",
    "f = open('tangshi.txt', 'r', encoding='utf-8')  # 读入txt文件\n",
    "lines = f.readlines()\n",
    "f.close()\n",
    "\n",
    "names_dict = {}\n",
    "for name in names:\n",
    "    name = '赠'+name    # 构建诗名\n",
    "    content = []\n",
    "    which_poem = []\n",
    "    for i in range(4):\n",
    "        estring = name[i]+'[^，。（）！？《》：；””]{6}[，。！？]'  # 构建诗句的正则表达式\n",
    "        e1 = re.compile(estring)\n",
    "        estring = '【[^】]*】'  # 构建诗名的正则表达式\n",
    "        e2 = re.compile(estring)\n",
    "        poem_name = \"\"\n",
    "        find_result = []\n",
    "        # 根据正则表达式寻找结果并加入list\n",
    "        for line in lines:\n",
    "            line = line.replace(u'\\u3000', u' ')\n",
    "            if(e2.findall(line) != []):\n",
    "                poem_name = line[line.find('【'):line.rfind(\"\\\\\")]\n",
    "            if(e1.findall(line) != []):\n",
    "                result = [poem_name, e1.findall(line)[0]]\n",
    "                find_result.append(result)\n",
    "        result = random.choice(find_result) # 利用random函数挑选结果\n",
    "        # 重构标点符号\n",
    "        if i % 2 == 0:\n",
    "            result[1] = result[1][0:7]+'，'\n",
    "        else:\n",
    "            temp = random.randint(0, 2)\n",
    "            biaodian = ['。', '？', '！']\n",
    "            result[1] = result[1][0:7]+biaodian[temp]\n",
    "        content.append(result)\n",
    "    names_dict[name] = content  # 最终加入字典"
   ]
  },
  {
   "cell_type": "code",
   "execution_count": 14,
   "metadata": {},
   "outputs": [],
   "source": [
    "for name in names_dict:\n",
    "    num=random.randint(1,5) # 使用random函数挑选背景图片\n",
    "    img = Image.open('background/'+str(num)+'.png')\n",
    "    img=img.resize((800,1000))  # 使用resize函数调整背景图片大小\n",
    "    draw = ImageDraw.Draw(img)\n",
    "    font = ImageFont.truetype(font='JiangPanJiuShiYue-2.ttf', size=36)\n",
    "\n",
    "    # 信头部分\n",
    "    draw.text(xy=(100,150),text=\"亲爱的\",fill=(0,0,0),font=font)\n",
    "    draw.text(xy=(208,150),text=name[1:],fill=(random.randint(0,255),random.randint(0,255),random.randint(0,255)),font=font)\n",
    "    draw.text(xy=(300,150),text=\"：\",fill=(0,0,0),font=font)\n",
    "    draw.text(xy=(172,200),text=\"为您写了首诗，希望您喜欢：\",fill=(0,0,0),font=font)\n",
    "\n",
    "    # 诗的部分\n",
    "    i=0\n",
    "    for si in names_dict[name]:\n",
    "        draw.text(xy=(172,250+i*50),text=si[1][0],fill=(random.randint(0,255),random.randint(0,255),random.randint(0,255)),font=font)\n",
    "        draw.text(xy=(208, 250+i*50), text=si[1][1:], fill=(0, 0, 0), font=font)\n",
    "        i=i+1\n",
    "    \n",
    "    # 信尾部分\n",
    "    draw.text(xy=(172,500),text=\"此致\",fill=(0,0,0),font=font)\n",
    "    draw.text(xy=(100,550),text=\"敬礼！\",fill=(0,0,0),font=font)\n",
    "    draw.text(xy=(550,650),text=\"郭泽宇\",fill=(0,0,0),font=font)\n",
    "    draw.text(xy=(550,700),text=\"2021/6/17\",fill=(0,0,0),font=font)\n",
    "\n",
    "    # 备注部分\n",
    "    font = ImageFont.truetype(font='MoRanXingKai-2.ttf', size=12)\n",
    "    draw.text(xy=(100,600),text=\"备注：\",fill=(0,0,0),font=font)\n",
    "    i=0\n",
    "    for si in names_dict[name]:\n",
    "        draw.text(xy=(136, 600+i*15), text=si[0], fill=(0, 0, 0), font=font)\n",
    "        i=i+1\n",
    "\n",
    "    # 保存图片\n",
    "    file_path=\"card/\"+name+\".png\"\n",
    "    img.save(file_path)"
   ]
  }
 ]
}